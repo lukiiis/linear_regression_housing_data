{
 "cells": [
  {
   "cell_type": "markdown",
   "source": [
    "## Uczenie liniowej hipotezy dla problemu przewidywania cen nieruchomości"
   ],
   "metadata": {
    "collapsed": false
   },
   "id": "19f8aab3a84f187b"
  },
  {
   "cell_type": "markdown",
   "source": [
    "### Wczytanie i prezentacja danych"
   ],
   "metadata": {
    "collapsed": false
   },
   "id": "61a6868d3e298437"
  },
  {
   "cell_type": "code",
   "execution_count": 408,
   "outputs": [],
   "source": [
    "import pandas as pd\n",
    "import numpy as np\n",
    "import matplotlib\n",
    "import sklearn"
   ],
   "metadata": {
    "collapsed": false,
    "ExecuteTime": {
     "end_time": "2023-12-08T17:21:03.880928200Z",
     "start_time": "2023-12-08T17:21:03.456462400Z"
    }
   },
   "id": "3eb844cee6fa003d"
  },
  {
   "cell_type": "code",
   "execution_count": 409,
   "outputs": [],
   "source": [
    "housing = pd.read_csv('housing_data.csv')"
   ],
   "metadata": {
    "collapsed": false,
    "ExecuteTime": {
     "end_time": "2023-12-08T17:21:04.078316100Z",
     "start_time": "2023-12-08T17:21:03.464433300Z"
    }
   },
   "id": "5eb70574e278d54f"
  },
  {
   "cell_type": "code",
   "execution_count": 410,
   "outputs": [
    {
     "data": {
      "text/plain": "      price  area  bedrooms  bathrooms  stories mainroad guestroom basement  \\\n0  13300000  7420         4          2        3      yes        no       no   \n1  12250000  8960         4          4        4      yes        no       no   \n2  12250000  9960         3          2        2      yes        no      yes   \n3  12215000  7500         4          2        2      yes        no      yes   \n4  11410000  7420         4          1        2      yes       yes      yes   \n\n  hotwaterheating airconditioning  parking prefarea furnishingstatus  \n0              no             yes        2      yes        furnished  \n1              no             yes        3       no        furnished  \n2              no              no        2      yes   semi-furnished  \n3              no             yes        3      yes        furnished  \n4              no             yes        2       no        furnished  ",
      "text/html": "<div>\n<style scoped>\n    .dataframe tbody tr th:only-of-type {\n        vertical-align: middle;\n    }\n\n    .dataframe tbody tr th {\n        vertical-align: top;\n    }\n\n    .dataframe thead th {\n        text-align: right;\n    }\n</style>\n<table border=\"1\" class=\"dataframe\">\n  <thead>\n    <tr style=\"text-align: right;\">\n      <th></th>\n      <th>price</th>\n      <th>area</th>\n      <th>bedrooms</th>\n      <th>bathrooms</th>\n      <th>stories</th>\n      <th>mainroad</th>\n      <th>guestroom</th>\n      <th>basement</th>\n      <th>hotwaterheating</th>\n      <th>airconditioning</th>\n      <th>parking</th>\n      <th>prefarea</th>\n      <th>furnishingstatus</th>\n    </tr>\n  </thead>\n  <tbody>\n    <tr>\n      <th>0</th>\n      <td>13300000</td>\n      <td>7420</td>\n      <td>4</td>\n      <td>2</td>\n      <td>3</td>\n      <td>yes</td>\n      <td>no</td>\n      <td>no</td>\n      <td>no</td>\n      <td>yes</td>\n      <td>2</td>\n      <td>yes</td>\n      <td>furnished</td>\n    </tr>\n    <tr>\n      <th>1</th>\n      <td>12250000</td>\n      <td>8960</td>\n      <td>4</td>\n      <td>4</td>\n      <td>4</td>\n      <td>yes</td>\n      <td>no</td>\n      <td>no</td>\n      <td>no</td>\n      <td>yes</td>\n      <td>3</td>\n      <td>no</td>\n      <td>furnished</td>\n    </tr>\n    <tr>\n      <th>2</th>\n      <td>12250000</td>\n      <td>9960</td>\n      <td>3</td>\n      <td>2</td>\n      <td>2</td>\n      <td>yes</td>\n      <td>no</td>\n      <td>yes</td>\n      <td>no</td>\n      <td>no</td>\n      <td>2</td>\n      <td>yes</td>\n      <td>semi-furnished</td>\n    </tr>\n    <tr>\n      <th>3</th>\n      <td>12215000</td>\n      <td>7500</td>\n      <td>4</td>\n      <td>2</td>\n      <td>2</td>\n      <td>yes</td>\n      <td>no</td>\n      <td>yes</td>\n      <td>no</td>\n      <td>yes</td>\n      <td>3</td>\n      <td>yes</td>\n      <td>furnished</td>\n    </tr>\n    <tr>\n      <th>4</th>\n      <td>11410000</td>\n      <td>7420</td>\n      <td>4</td>\n      <td>1</td>\n      <td>2</td>\n      <td>yes</td>\n      <td>yes</td>\n      <td>yes</td>\n      <td>no</td>\n      <td>yes</td>\n      <td>2</td>\n      <td>no</td>\n      <td>furnished</td>\n    </tr>\n  </tbody>\n</table>\n</div>"
     },
     "execution_count": 410,
     "metadata": {},
     "output_type": "execute_result"
    }
   ],
   "source": [
    "housing.head()"
   ],
   "metadata": {
    "collapsed": false,
    "ExecuteTime": {
     "end_time": "2023-12-08T17:21:04.257432600Z",
     "start_time": "2023-12-08T17:21:03.476708400Z"
    }
   },
   "id": "c782cfb6eac0250"
  },
  {
   "cell_type": "markdown",
   "source": [
    "### Przekształcanie stringów na inty"
   ],
   "metadata": {
    "collapsed": false
   },
   "id": "e90529dae1b2e731"
  },
  {
   "cell_type": "code",
   "execution_count": 411,
   "outputs": [],
   "source": [
    "housing_prep = housing\n",
    "housing_prep['mainroad'] = housing_prep['mainroad'].apply(lambda x: 1 if x == 'yes' else 0)\n",
    "housing_prep['guestroom'] = housing_prep['guestroom'].apply(lambda x: 1 if x == 'yes' else 0)\n",
    "housing_prep['basement'] = housing_prep['basement'].apply(lambda x: 1 if x == 'yes' else 0)\n",
    "housing_prep['hotwaterheating'] = housing_prep['hotwaterheating'].apply(lambda x: 1 if x == 'yes' else 0)\n",
    "housing_prep['airconditioning'] = housing_prep['airconditioning'].apply(lambda x: 1 if x == 'yes' else 0)\n",
    "housing_prep['prefarea'] = housing_prep['prefarea'].apply(lambda x: 1 if x == 'yes' else 0)\n",
    "housing_prep['furnishingstatus'] = housing_prep['furnishingstatus'].map({'furnished': 2, 'semi-furnished': 1, 'unfurnished': 0})"
   ],
   "metadata": {
    "collapsed": false,
    "ExecuteTime": {
     "end_time": "2023-12-08T17:21:04.258427Z",
     "start_time": "2023-12-08T17:21:03.503620100Z"
    }
   },
   "id": "9ec43891317f092e"
  },
  {
   "cell_type": "code",
   "execution_count": 412,
   "outputs": [
    {
     "data": {
      "text/plain": "              price          area    bedrooms   bathrooms     stories  \\\ncount  5.450000e+02    545.000000  545.000000  545.000000  545.000000   \nmean   4.766729e+06   5150.541284    2.965138    1.286239    1.805505   \nstd    1.870440e+06   2170.141023    0.738064    0.502470    0.867492   \nmin    1.750000e+06   1650.000000    1.000000    1.000000    1.000000   \n25%    3.430000e+06   3600.000000    2.000000    1.000000    1.000000   \n50%    4.340000e+06   4600.000000    3.000000    1.000000    2.000000   \n75%    5.740000e+06   6360.000000    3.000000    2.000000    2.000000   \nmax    1.330000e+07  16200.000000    6.000000    4.000000    4.000000   \n\n         mainroad   guestroom    basement  hotwaterheating  airconditioning  \\\ncount  545.000000  545.000000  545.000000       545.000000       545.000000   \nmean     0.858716    0.177982    0.350459         0.045872         0.315596   \nstd      0.348635    0.382849    0.477552         0.209399         0.465180   \nmin      0.000000    0.000000    0.000000         0.000000         0.000000   \n25%      1.000000    0.000000    0.000000         0.000000         0.000000   \n50%      1.000000    0.000000    0.000000         0.000000         0.000000   \n75%      1.000000    0.000000    1.000000         0.000000         1.000000   \nmax      1.000000    1.000000    1.000000         1.000000         1.000000   \n\n          parking    prefarea  furnishingstatus  \ncount  545.000000  545.000000        545.000000  \nmean     0.693578    0.234862          0.930275  \nstd      0.861586    0.424302          0.761373  \nmin      0.000000    0.000000          0.000000  \n25%      0.000000    0.000000          0.000000  \n50%      0.000000    0.000000          1.000000  \n75%      1.000000    0.000000          2.000000  \nmax      3.000000    1.000000          2.000000  ",
      "text/html": "<div>\n<style scoped>\n    .dataframe tbody tr th:only-of-type {\n        vertical-align: middle;\n    }\n\n    .dataframe tbody tr th {\n        vertical-align: top;\n    }\n\n    .dataframe thead th {\n        text-align: right;\n    }\n</style>\n<table border=\"1\" class=\"dataframe\">\n  <thead>\n    <tr style=\"text-align: right;\">\n      <th></th>\n      <th>price</th>\n      <th>area</th>\n      <th>bedrooms</th>\n      <th>bathrooms</th>\n      <th>stories</th>\n      <th>mainroad</th>\n      <th>guestroom</th>\n      <th>basement</th>\n      <th>hotwaterheating</th>\n      <th>airconditioning</th>\n      <th>parking</th>\n      <th>prefarea</th>\n      <th>furnishingstatus</th>\n    </tr>\n  </thead>\n  <tbody>\n    <tr>\n      <th>count</th>\n      <td>5.450000e+02</td>\n      <td>545.000000</td>\n      <td>545.000000</td>\n      <td>545.000000</td>\n      <td>545.000000</td>\n      <td>545.000000</td>\n      <td>545.000000</td>\n      <td>545.000000</td>\n      <td>545.000000</td>\n      <td>545.000000</td>\n      <td>545.000000</td>\n      <td>545.000000</td>\n      <td>545.000000</td>\n    </tr>\n    <tr>\n      <th>mean</th>\n      <td>4.766729e+06</td>\n      <td>5150.541284</td>\n      <td>2.965138</td>\n      <td>1.286239</td>\n      <td>1.805505</td>\n      <td>0.858716</td>\n      <td>0.177982</td>\n      <td>0.350459</td>\n      <td>0.045872</td>\n      <td>0.315596</td>\n      <td>0.693578</td>\n      <td>0.234862</td>\n      <td>0.930275</td>\n    </tr>\n    <tr>\n      <th>std</th>\n      <td>1.870440e+06</td>\n      <td>2170.141023</td>\n      <td>0.738064</td>\n      <td>0.502470</td>\n      <td>0.867492</td>\n      <td>0.348635</td>\n      <td>0.382849</td>\n      <td>0.477552</td>\n      <td>0.209399</td>\n      <td>0.465180</td>\n      <td>0.861586</td>\n      <td>0.424302</td>\n      <td>0.761373</td>\n    </tr>\n    <tr>\n      <th>min</th>\n      <td>1.750000e+06</td>\n      <td>1650.000000</td>\n      <td>1.000000</td>\n      <td>1.000000</td>\n      <td>1.000000</td>\n      <td>0.000000</td>\n      <td>0.000000</td>\n      <td>0.000000</td>\n      <td>0.000000</td>\n      <td>0.000000</td>\n      <td>0.000000</td>\n      <td>0.000000</td>\n      <td>0.000000</td>\n    </tr>\n    <tr>\n      <th>25%</th>\n      <td>3.430000e+06</td>\n      <td>3600.000000</td>\n      <td>2.000000</td>\n      <td>1.000000</td>\n      <td>1.000000</td>\n      <td>1.000000</td>\n      <td>0.000000</td>\n      <td>0.000000</td>\n      <td>0.000000</td>\n      <td>0.000000</td>\n      <td>0.000000</td>\n      <td>0.000000</td>\n      <td>0.000000</td>\n    </tr>\n    <tr>\n      <th>50%</th>\n      <td>4.340000e+06</td>\n      <td>4600.000000</td>\n      <td>3.000000</td>\n      <td>1.000000</td>\n      <td>2.000000</td>\n      <td>1.000000</td>\n      <td>0.000000</td>\n      <td>0.000000</td>\n      <td>0.000000</td>\n      <td>0.000000</td>\n      <td>0.000000</td>\n      <td>0.000000</td>\n      <td>1.000000</td>\n    </tr>\n    <tr>\n      <th>75%</th>\n      <td>5.740000e+06</td>\n      <td>6360.000000</td>\n      <td>3.000000</td>\n      <td>2.000000</td>\n      <td>2.000000</td>\n      <td>1.000000</td>\n      <td>0.000000</td>\n      <td>1.000000</td>\n      <td>0.000000</td>\n      <td>1.000000</td>\n      <td>1.000000</td>\n      <td>0.000000</td>\n      <td>2.000000</td>\n    </tr>\n    <tr>\n      <th>max</th>\n      <td>1.330000e+07</td>\n      <td>16200.000000</td>\n      <td>6.000000</td>\n      <td>4.000000</td>\n      <td>4.000000</td>\n      <td>1.000000</td>\n      <td>1.000000</td>\n      <td>1.000000</td>\n      <td>1.000000</td>\n      <td>1.000000</td>\n      <td>3.000000</td>\n      <td>1.000000</td>\n      <td>2.000000</td>\n    </tr>\n  </tbody>\n</table>\n</div>"
     },
     "execution_count": 412,
     "metadata": {},
     "output_type": "execute_result"
    }
   ],
   "source": [
    "housing_prep.describe()"
   ],
   "metadata": {
    "collapsed": false,
    "ExecuteTime": {
     "end_time": "2023-12-08T17:21:04.815208400Z",
     "start_time": "2023-12-08T17:21:03.518430600Z"
    }
   },
   "id": "d1d4bcbeccdef6d3"
  },
  {
   "cell_type": "code",
   "execution_count": 413,
   "outputs": [],
   "source": [
    "housing_data = housing_prep.iloc[:, 1:]\n",
    "housing_target = housing_prep.iloc[:, 0]"
   ],
   "metadata": {
    "collapsed": false,
    "ExecuteTime": {
     "end_time": "2023-12-08T17:21:04.903036100Z",
     "start_time": "2023-12-08T17:21:03.567300200Z"
    }
   },
   "id": "194680b3046b9c71"
  },
  {
   "cell_type": "code",
   "execution_count": 414,
   "outputs": [
    {
     "data": {
      "text/plain": "   area  bedrooms  bathrooms  stories  mainroad  guestroom  basement  \\\n0  7420         4          2        3         1          0         0   \n1  8960         4          4        4         1          0         0   \n2  9960         3          2        2         1          0         1   \n3  7500         4          2        2         1          0         1   \n4  7420         4          1        2         1          1         1   \n\n   hotwaterheating  airconditioning  parking  prefarea  furnishingstatus  \n0                0                1        2         1                 2  \n1                0                1        3         0                 2  \n2                0                0        2         1                 1  \n3                0                1        3         1                 2  \n4                0                1        2         0                 2  ",
      "text/html": "<div>\n<style scoped>\n    .dataframe tbody tr th:only-of-type {\n        vertical-align: middle;\n    }\n\n    .dataframe tbody tr th {\n        vertical-align: top;\n    }\n\n    .dataframe thead th {\n        text-align: right;\n    }\n</style>\n<table border=\"1\" class=\"dataframe\">\n  <thead>\n    <tr style=\"text-align: right;\">\n      <th></th>\n      <th>area</th>\n      <th>bedrooms</th>\n      <th>bathrooms</th>\n      <th>stories</th>\n      <th>mainroad</th>\n      <th>guestroom</th>\n      <th>basement</th>\n      <th>hotwaterheating</th>\n      <th>airconditioning</th>\n      <th>parking</th>\n      <th>prefarea</th>\n      <th>furnishingstatus</th>\n    </tr>\n  </thead>\n  <tbody>\n    <tr>\n      <th>0</th>\n      <td>7420</td>\n      <td>4</td>\n      <td>2</td>\n      <td>3</td>\n      <td>1</td>\n      <td>0</td>\n      <td>0</td>\n      <td>0</td>\n      <td>1</td>\n      <td>2</td>\n      <td>1</td>\n      <td>2</td>\n    </tr>\n    <tr>\n      <th>1</th>\n      <td>8960</td>\n      <td>4</td>\n      <td>4</td>\n      <td>4</td>\n      <td>1</td>\n      <td>0</td>\n      <td>0</td>\n      <td>0</td>\n      <td>1</td>\n      <td>3</td>\n      <td>0</td>\n      <td>2</td>\n    </tr>\n    <tr>\n      <th>2</th>\n      <td>9960</td>\n      <td>3</td>\n      <td>2</td>\n      <td>2</td>\n      <td>1</td>\n      <td>0</td>\n      <td>1</td>\n      <td>0</td>\n      <td>0</td>\n      <td>2</td>\n      <td>1</td>\n      <td>1</td>\n    </tr>\n    <tr>\n      <th>3</th>\n      <td>7500</td>\n      <td>4</td>\n      <td>2</td>\n      <td>2</td>\n      <td>1</td>\n      <td>0</td>\n      <td>1</td>\n      <td>0</td>\n      <td>1</td>\n      <td>3</td>\n      <td>1</td>\n      <td>2</td>\n    </tr>\n    <tr>\n      <th>4</th>\n      <td>7420</td>\n      <td>4</td>\n      <td>1</td>\n      <td>2</td>\n      <td>1</td>\n      <td>1</td>\n      <td>1</td>\n      <td>0</td>\n      <td>1</td>\n      <td>2</td>\n      <td>0</td>\n      <td>2</td>\n    </tr>\n  </tbody>\n</table>\n</div>"
     },
     "execution_count": 414,
     "metadata": {},
     "output_type": "execute_result"
    }
   ],
   "source": [
    "housing_data.head()"
   ],
   "metadata": {
    "collapsed": false,
    "ExecuteTime": {
     "end_time": "2023-12-08T17:21:05.113477Z",
     "start_time": "2023-12-08T17:21:03.573367400Z"
    }
   },
   "id": "76dc5339aca58bc2"
  },
  {
   "cell_type": "code",
   "execution_count": 415,
   "outputs": [
    {
     "data": {
      "text/plain": "0    13300000\n1    12250000\n2    12250000\n3    12215000\n4    11410000\nName: price, dtype: int64"
     },
     "execution_count": 415,
     "metadata": {},
     "output_type": "execute_result"
    }
   ],
   "source": [
    "housing_target.head()"
   ],
   "metadata": {
    "collapsed": false,
    "ExecuteTime": {
     "end_time": "2023-12-08T17:21:05.114476300Z",
     "start_time": "2023-12-08T17:21:03.592034600Z"
    }
   },
   "id": "4198c48eaf39264e"
  },
  {
   "cell_type": "markdown",
   "source": [
    "### Przekształcanie na tabele danych"
   ],
   "metadata": {
    "collapsed": false
   },
   "id": "c9423a289cb2ca75"
  },
  {
   "cell_type": "code",
   "execution_count": 416,
   "outputs": [
    {
     "name": "stdout",
     "output_type": "stream",
     "text": [
      "<class 'numpy.ndarray'>\n",
      "<class 'numpy.ndarray'>\n",
      "(545, 12)\n",
      "(545,)\n"
     ]
    }
   ],
   "source": [
    "data_np = np.array(housing_data, dtype=np.float64)\n",
    "target_np = np.array(housing_target, dtype=np.float64)\n",
    "\n",
    "print(type(data_np))\n",
    "print(type(target_np))\n",
    "\n",
    "print(data_np.shape)\n",
    "print(target_np.shape)"
   ],
   "metadata": {
    "collapsed": false,
    "ExecuteTime": {
     "end_time": "2023-12-08T17:21:05.117468500Z",
     "start_time": "2023-12-08T17:21:03.603927Z"
    }
   },
   "id": "e5e2cce9134df8c6"
  },
  {
   "cell_type": "code",
   "execution_count": 417,
   "outputs": [
    {
     "name": "stdout",
     "output_type": "stream",
     "text": [
      "First house in database\n",
      "[7.42e+03 4.00e+00 2.00e+00 3.00e+00 1.00e+00 0.00e+00 0.00e+00 0.00e+00\n",
      " 1.00e+00 2.00e+00 1.00e+00 2.00e+00]\n"
     ]
    }
   ],
   "source": [
    "print(\"First house in database\")\n",
    "print(data_np[0,:])"
   ],
   "metadata": {
    "collapsed": false,
    "ExecuteTime": {
     "end_time": "2023-12-08T17:21:05.124482100Z",
     "start_time": "2023-12-08T17:21:03.611678100Z"
    }
   },
   "id": "2b692150b9b13f0c"
  },
  {
   "cell_type": "code",
   "execution_count": 418,
   "outputs": [
    {
     "name": "stdout",
     "output_type": "stream",
     "text": [
      "13300000.0\n"
     ]
    }
   ],
   "source": [
    "print(target_np[0])"
   ],
   "metadata": {
    "collapsed": false,
    "ExecuteTime": {
     "end_time": "2023-12-08T17:21:05.125446100Z",
     "start_time": "2023-12-08T17:21:03.617242200Z"
    }
   },
   "id": "a0afaf6678db6bd5"
  },
  {
   "cell_type": "code",
   "execution_count": 419,
   "outputs": [
    {
     "name": "stdout",
     "output_type": "stream",
     "text": [
      "---Mean---\n",
      "[5.15054128e+03 2.96513761e+00 1.28623853e+00 1.80550459e+00\n",
      " 8.58715596e-01 1.77981651e-01 3.50458716e-01 4.58715596e-02\n",
      " 3.15596330e-01 6.93577982e-01 2.34862385e-01 9.30275229e-01]\n",
      "---std---\n",
      "[2.16814915e+03 7.37386427e-01 5.02008423e-01 8.66696233e-01\n",
      " 3.48314687e-01 3.82497298e-01 4.77113618e-01 2.09206500e-01\n",
      " 4.64752931e-01 8.60794942e-01 4.23912780e-01 7.60673843e-01]\n"
     ]
    }
   ],
   "source": [
    "print(\"---Mean---\")\n",
    "print(data_np.mean(axis=0))\n",
    "print(\"---std---\")\n",
    "print(data_np.std(axis=0))"
   ],
   "metadata": {
    "collapsed": false,
    "ExecuteTime": {
     "end_time": "2023-12-08T17:21:05.125446100Z",
     "start_time": "2023-12-08T17:21:03.627100300Z"
    }
   },
   "id": "4a8e8de01ceefbcd"
  },
  {
   "cell_type": "markdown",
   "source": [
    "### Skalowanie danych"
   ],
   "metadata": {
    "collapsed": false
   },
   "id": "8ae4d2ab300eafc7"
  },
  {
   "cell_type": "code",
   "execution_count": 420,
   "outputs": [],
   "source": [
    "from sklearn.preprocessing import StandardScaler\n",
    "scaler = StandardScaler()\n",
    "scaled_data = scaler.fit_transform(data_np)"
   ],
   "metadata": {
    "collapsed": false,
    "ExecuteTime": {
     "end_time": "2023-12-08T17:21:05.126476900Z",
     "start_time": "2023-12-08T17:21:03.636683200Z"
    }
   },
   "id": "5fdb8c07bf83477b"
  },
  {
   "cell_type": "code",
   "execution_count": 421,
   "outputs": [
    {
     "name": "stdout",
     "output_type": "stream",
     "text": [
      "First house in database\n",
      "[ 1.04672629  1.40341936  1.42181174  1.37821692  0.40562287 -0.46531479\n",
      " -0.73453933 -0.2192645   1.4726183   1.51769249  1.80494113  1.40628573]\n",
      "---Mean---\n",
      "[-1.56449777e-16 -1.82524739e-16 -2.60749628e-17 -1.30374814e-16\n",
      " -1.82524739e-16  5.21499256e-17 -7.82248883e-17 -6.51874070e-18\n",
      " -5.21499256e-17  0.00000000e+00  0.00000000e+00  0.00000000e+00]\n",
      "--std---\n",
      "[1. 1. 1. 1. 1. 1. 1. 1. 1. 1. 1. 1.]\n"
     ]
    }
   ],
   "source": [
    "print(\"First house in database\")\n",
    "print(scaled_data[0,:])\n",
    "print('---Mean---')\n",
    "print(scaled_data.mean(axis=0))\n",
    "print('--std---')\n",
    "print(scaled_data.std(axis=0))"
   ],
   "metadata": {
    "collapsed": false,
    "ExecuteTime": {
     "end_time": "2023-12-08T17:21:05.126476900Z",
     "start_time": "2023-12-08T17:21:03.646096Z"
    }
   },
   "id": "6f41f5e95dee0ce3"
  },
  {
   "cell_type": "markdown",
   "source": [
    "### Podział danych na zbiory testowe i treningowe"
   ],
   "metadata": {
    "collapsed": false
   },
   "id": "395179dd25b15710"
  },
  {
   "cell_type": "code",
   "execution_count": 422,
   "outputs": [],
   "source": [
    "from sklearn.model_selection import train_test_split\n",
    "\n",
    "housing_train_data, housing_test_data, \\\n",
    "housing_train_target, housing_test_target = \\\n",
    "train_test_split(scaled_data, target_np, test_size=0.3)"
   ],
   "metadata": {
    "collapsed": false,
    "ExecuteTime": {
     "end_time": "2023-12-08T17:21:05.126476900Z",
     "start_time": "2023-12-08T17:21:03.655820Z"
    }
   },
   "id": "455c1edfa1d3e4c5"
  },
  {
   "cell_type": "code",
   "execution_count": 423,
   "outputs": [
    {
     "name": "stdout",
     "output_type": "stream",
     "text": [
      "Training dataset:\n",
      "clients_train_data: (381, 12)\n",
      "clients_train_target: (381,)\n"
     ]
    }
   ],
   "source": [
    "print(\"Training dataset:\")\n",
    "print(\"clients_train_data:\", housing_train_data.shape)\n",
    "print(\"clients_train_target:\", housing_train_target.shape)"
   ],
   "metadata": {
    "collapsed": false,
    "ExecuteTime": {
     "end_time": "2023-12-08T17:21:05.126476900Z",
     "start_time": "2023-12-08T17:21:03.662109400Z"
    }
   },
   "id": "c1d678b73b314a55"
  },
  {
   "cell_type": "code",
   "execution_count": 424,
   "outputs": [
    {
     "name": "stdout",
     "output_type": "stream",
     "text": [
      "Testing dataset:\n",
      "clients_test_data: (164, 12)\n",
      "clients_test_target: (164,)\n"
     ]
    }
   ],
   "source": [
    "print(\"Testing dataset:\")\n",
    "print(\"clients_test_data:\", housing_test_data.shape)\n",
    "print(\"clients_test_target:\", housing_test_target.shape)"
   ],
   "metadata": {
    "collapsed": false,
    "ExecuteTime": {
     "end_time": "2023-12-08T17:21:05.126476900Z",
     "start_time": "2023-12-08T17:21:03.672583Z"
    }
   },
   "id": "716247819ecc978d"
  },
  {
   "cell_type": "markdown",
   "source": [
    "### Trenowanie modelu"
   ],
   "metadata": {
    "collapsed": false
   },
   "id": "9bd2f2da85463dff"
  },
  {
   "cell_type": "code",
   "execution_count": 425,
   "outputs": [
    {
     "data": {
      "text/plain": "LinearRegression()",
      "text/html": "<style>#sk-container-id-12 {color: black;}#sk-container-id-12 pre{padding: 0;}#sk-container-id-12 div.sk-toggleable {background-color: white;}#sk-container-id-12 label.sk-toggleable__label {cursor: pointer;display: block;width: 100%;margin-bottom: 0;padding: 0.3em;box-sizing: border-box;text-align: center;}#sk-container-id-12 label.sk-toggleable__label-arrow:before {content: \"▸\";float: left;margin-right: 0.25em;color: #696969;}#sk-container-id-12 label.sk-toggleable__label-arrow:hover:before {color: black;}#sk-container-id-12 div.sk-estimator:hover label.sk-toggleable__label-arrow:before {color: black;}#sk-container-id-12 div.sk-toggleable__content {max-height: 0;max-width: 0;overflow: hidden;text-align: left;background-color: #f0f8ff;}#sk-container-id-12 div.sk-toggleable__content pre {margin: 0.2em;color: black;border-radius: 0.25em;background-color: #f0f8ff;}#sk-container-id-12 input.sk-toggleable__control:checked~div.sk-toggleable__content {max-height: 200px;max-width: 100%;overflow: auto;}#sk-container-id-12 input.sk-toggleable__control:checked~label.sk-toggleable__label-arrow:before {content: \"▾\";}#sk-container-id-12 div.sk-estimator input.sk-toggleable__control:checked~label.sk-toggleable__label {background-color: #d4ebff;}#sk-container-id-12 div.sk-label input.sk-toggleable__control:checked~label.sk-toggleable__label {background-color: #d4ebff;}#sk-container-id-12 input.sk-hidden--visually {border: 0;clip: rect(1px 1px 1px 1px);clip: rect(1px, 1px, 1px, 1px);height: 1px;margin: -1px;overflow: hidden;padding: 0;position: absolute;width: 1px;}#sk-container-id-12 div.sk-estimator {font-family: monospace;background-color: #f0f8ff;border: 1px dotted black;border-radius: 0.25em;box-sizing: border-box;margin-bottom: 0.5em;}#sk-container-id-12 div.sk-estimator:hover {background-color: #d4ebff;}#sk-container-id-12 div.sk-parallel-item::after {content: \"\";width: 100%;border-bottom: 1px solid gray;flex-grow: 1;}#sk-container-id-12 div.sk-label:hover label.sk-toggleable__label {background-color: #d4ebff;}#sk-container-id-12 div.sk-serial::before {content: \"\";position: absolute;border-left: 1px solid gray;box-sizing: border-box;top: 0;bottom: 0;left: 50%;z-index: 0;}#sk-container-id-12 div.sk-serial {display: flex;flex-direction: column;align-items: center;background-color: white;padding-right: 0.2em;padding-left: 0.2em;position: relative;}#sk-container-id-12 div.sk-item {position: relative;z-index: 1;}#sk-container-id-12 div.sk-parallel {display: flex;align-items: stretch;justify-content: center;background-color: white;position: relative;}#sk-container-id-12 div.sk-item::before, #sk-container-id-12 div.sk-parallel-item::before {content: \"\";position: absolute;border-left: 1px solid gray;box-sizing: border-box;top: 0;bottom: 0;left: 50%;z-index: -1;}#sk-container-id-12 div.sk-parallel-item {display: flex;flex-direction: column;z-index: 1;position: relative;background-color: white;}#sk-container-id-12 div.sk-parallel-item:first-child::after {align-self: flex-end;width: 50%;}#sk-container-id-12 div.sk-parallel-item:last-child::after {align-self: flex-start;width: 50%;}#sk-container-id-12 div.sk-parallel-item:only-child::after {width: 0;}#sk-container-id-12 div.sk-dashed-wrapped {border: 1px dashed gray;margin: 0 0.4em 0.5em 0.4em;box-sizing: border-box;padding-bottom: 0.4em;background-color: white;}#sk-container-id-12 div.sk-label label {font-family: monospace;font-weight: bold;display: inline-block;line-height: 1.2em;}#sk-container-id-12 div.sk-label-container {text-align: center;}#sk-container-id-12 div.sk-container {/* jupyter's `normalize.less` sets `[hidden] { display: none; }` but bootstrap.min.css set `[hidden] { display: none !important; }` so we also need the `!important` here to be able to override the default hidden behavior on the sphinx rendered scikit-learn.org. See: https://github.com/scikit-learn/scikit-learn/issues/21755 */display: inline-block !important;position: relative;}#sk-container-id-12 div.sk-text-repr-fallback {display: none;}</style><div id=\"sk-container-id-12\" class=\"sk-top-container\"><div class=\"sk-text-repr-fallback\"><pre>LinearRegression()</pre><b>In a Jupyter environment, please rerun this cell to show the HTML representation or trust the notebook. <br />On GitHub, the HTML representation is unable to render, please try loading this page with nbviewer.org.</b></div><div class=\"sk-container\" hidden><div class=\"sk-item\"><div class=\"sk-estimator sk-toggleable\"><input class=\"sk-toggleable__control sk-hidden--visually\" id=\"sk-estimator-id-12\" type=\"checkbox\" checked><label for=\"sk-estimator-id-12\" class=\"sk-toggleable__label sk-toggleable__label-arrow\">LinearRegression</label><div class=\"sk-toggleable__content\"><pre>LinearRegression()</pre></div></div></div></div></div>"
     },
     "execution_count": 425,
     "metadata": {},
     "output_type": "execute_result"
    }
   ],
   "source": [
    "from sklearn.linear_model import LinearRegression\n",
    "\n",
    "linear_regression = LinearRegression()\n",
    "linear_regression.fit(housing_train_data, housing_train_target)"
   ],
   "metadata": {
    "collapsed": false,
    "ExecuteTime": {
     "end_time": "2023-12-08T17:21:05.149460700Z",
     "start_time": "2023-12-08T17:21:03.681539900Z"
    }
   },
   "id": "c64f6c1a3be16c77"
  },
  {
   "cell_type": "markdown",
   "source": [
    "### Ewaluacja modelu"
   ],
   "metadata": {
    "collapsed": false
   },
   "id": "720c1c99f1825b9"
  },
  {
   "cell_type": "code",
   "execution_count": 426,
   "outputs": [
    {
     "name": "stdout",
     "output_type": "stream",
     "text": [
      "Mean squared error of a learned model: 1023924901162.55\n"
     ]
    }
   ],
   "source": [
    "from sklearn.metrics import mean_squared_error\n",
    "print(\"Mean squared error of a learned model: %.2f\" % \n",
    "      mean_squared_error(housing_test_target, linear_regression.predict(housing_test_data)))"
   ],
   "metadata": {
    "collapsed": false,
    "ExecuteTime": {
     "end_time": "2023-12-08T17:21:05.150419300Z",
     "start_time": "2023-12-08T17:21:03.692733200Z"
    }
   },
   "id": "745af2816d8f2a9d"
  },
  {
   "cell_type": "code",
   "execution_count": 427,
   "outputs": [
    {
     "name": "stdout",
     "output_type": "stream",
     "text": [
      "Dokladnosc modelu: 0.6383131449598749\n"
     ]
    }
   ],
   "source": [
    "accuracy = linear_regression.score(housing_test_data, housing_test_target)\n",
    "print(f\"Dokladnosc modelu: {accuracy}\")"
   ],
   "metadata": {
    "collapsed": false,
    "ExecuteTime": {
     "end_time": "2023-12-08T17:21:05.150419300Z",
     "start_time": "2023-12-08T17:21:03.699897200Z"
    }
   },
   "id": "1d7ce978dd14eeb9"
  },
  {
   "cell_type": "code",
   "execution_count": 428,
   "outputs": [
    {
     "name": "stdout",
     "output_type": "stream",
     "text": [
      "Variance score: 0.64\n"
     ]
    }
   ],
   "source": [
    "from sklearn.metrics import r2_score\n",
    "print('Variance score: %.2f' % r2_score(housing_test_target, linear_regression.predict(housing_test_data)))"
   ],
   "metadata": {
    "collapsed": false,
    "ExecuteTime": {
     "end_time": "2023-12-08T17:21:05.150419300Z",
     "start_time": "2023-12-08T17:21:03.709593800Z"
    }
   },
   "id": "bb6de200bd6234fa"
  },
  {
   "cell_type": "markdown",
   "source": [
    "### Cross validation NIE DZIAŁA ?"
   ],
   "metadata": {
    "collapsed": false
   },
   "id": "3b4a6bff7e636225"
  },
  {
   "cell_type": "code",
   "execution_count": 429,
   "outputs": [
    {
     "name": "stdout",
     "output_type": "stream",
     "text": [
      "[8.17361596e+12 1.26015985e+12 6.60211846e+11 9.47517719e+11\n",
      " 9.41923662e+11 7.04726760e+11 8.11540690e+11 8.27080546e+11\n",
      " 6.27006181e+11 1.16211917e+12]\n"
     ]
    }
   ],
   "source": [
    "from sklearn.model_selection import cross_val_score\n",
    "scores = cross_val_score(linear_regression, scaled_data, target_np, cv=10, scoring='neg_mean_squared_error')\n",
    "print(-scores)"
   ],
   "metadata": {
    "collapsed": false,
    "ExecuteTime": {
     "end_time": "2023-12-08T17:21:05.150419300Z",
     "start_time": "2023-12-08T17:21:03.723474400Z"
    }
   },
   "id": "82cb1da5be0d8033"
  },
  {
   "cell_type": "code",
   "execution_count": 430,
   "outputs": [
    {
     "data": {
      "text/plain": "array([[ 1.04672629,  1.40341936,  1.42181174, ...,  1.51769249,\n         1.80494113,  1.40628573],\n       [ 1.75700953,  1.40341936,  5.40580863, ...,  2.67940935,\n        -0.55403469,  1.40628573],\n       [ 2.21823241,  0.04727831,  1.42181174, ...,  1.51769249,\n         1.80494113,  0.09166185],\n       ...,\n       [-0.70592066, -1.30886273, -0.57018671, ..., -0.80574124,\n        -0.55403469, -1.22296203],\n       [-1.03338891,  0.04727831, -0.57018671, ..., -0.80574124,\n        -0.55403469,  1.40628573],\n       [-0.5998394 ,  0.04727831, -0.57018671, ..., -0.80574124,\n        -0.55403469, -1.22296203]])"
     },
     "execution_count": 430,
     "metadata": {},
     "output_type": "execute_result"
    }
   ],
   "source": [
    "scaled_data"
   ],
   "metadata": {
    "collapsed": false,
    "ExecuteTime": {
     "end_time": "2023-12-08T17:21:05.151416Z",
     "start_time": "2023-12-08T17:21:03.749906400Z"
    }
   },
   "id": "35eab70dea5fc012"
  },
  {
   "cell_type": "markdown",
   "source": [
    "### Predykcja"
   ],
   "metadata": {
    "collapsed": false
   },
   "id": "fc33e944338660cb"
  },
  {
   "cell_type": "code",
   "execution_count": 431,
   "outputs": [],
   "source": [
    "id=1\n",
    "linear_regression_prediction = linear_regression.predict(housing_test_data[id,:].reshape(1,-1))"
   ],
   "metadata": {
    "collapsed": false,
    "ExecuteTime": {
     "end_time": "2023-12-08T17:21:05.151416Z",
     "start_time": "2023-12-08T17:21:03.759429600Z"
    }
   },
   "id": "294e9f0784f34d57"
  },
  {
   "cell_type": "code",
   "execution_count": 432,
   "outputs": [
    {
     "name": "stdout",
     "output_type": "stream",
     "text": [
      "Model predicted for house 1 value [4791954.7213488]\n"
     ]
    }
   ],
   "source": [
    "print(\"Model predicted for house {0} value {1}\".format(id, linear_regression_prediction))"
   ],
   "metadata": {
    "collapsed": false,
    "ExecuteTime": {
     "end_time": "2023-12-08T17:21:05.151416Z",
     "start_time": "2023-12-08T17:21:03.765829200Z"
    }
   },
   "id": "94983289be79c108"
  },
  {
   "cell_type": "code",
   "execution_count": 433,
   "outputs": [
    {
     "name": "stdout",
     "output_type": "stream",
     "text": [
      "Real value for house \"1\" is 3080000.0\n"
     ]
    }
   ],
   "source": [
    "print(\"Real value for house \\\"{0}\\\" is {1}\".format(id, housing_test_target[id]))"
   ],
   "metadata": {
    "collapsed": false,
    "ExecuteTime": {
     "end_time": "2023-12-08T17:21:05.151416Z",
     "start_time": "2023-12-08T17:21:03.771324900Z"
    }
   },
   "id": "139a9fec66c8e872"
  },
  {
   "cell_type": "code",
   "execution_count": 434,
   "outputs": [
    {
     "name": "stdout",
     "output_type": "stream",
     "text": [
      "[2623397.50975404 4791954.7213488  3015004.68494276 3915067.1241552\n",
      " 4554309.60748347 3164373.79000359 6797941.57005304 6770656.31067152\n",
      " 5109533.57332519 3697541.01434343 3129213.25185847 3485634.21931145\n",
      " 5333886.90135166 5339025.72241733 5517823.15371273 4927091.37806069\n",
      " 2645832.72899776 6181540.72517478 6975183.57912054 3469554.29268563\n",
      " 3394570.37476201 5219234.50577252 5561988.53269344 7978266.76643361\n",
      " 6709229.79443238 6612794.23272994 7580763.28385205 6798362.32618884\n",
      " 6485619.18833927 3845855.76265854 2124430.52037196 6593618.87509682\n",
      " 2978198.87655777 2640360.47333334 2852808.98262418 3812504.52402251\n",
      " 3756508.90002894 5008593.54933001 2749961.86519421 5717448.57715755\n",
      " 6274266.32903899 3336815.51466246 3676586.09263277 4662147.90766039\n",
      " 3862897.66035256 6208131.26740378 4186146.41260031 4844563.06812179\n",
      " 6209335.7731335  2303850.37125652 7677478.7600606  3062153.94194664\n",
      " 5972910.52076783 6268718.45134912 6022906.43781087 4977243.82490229\n",
      " 3577626.92334986 5568711.18804292 5067477.52391075 3269844.08620373\n",
      " 6014973.94278012 4771021.96950243 6506696.54272596 4128007.27346551\n",
      " 6654307.5534154  4955795.67878643 3273146.44579818 5945164.96426279\n",
      " 4269281.20969032 3540976.15887714 5976423.747187   6877377.22556681\n",
      " 3815911.42491113 5208675.65175333 7786292.11073388 2672830.29825966\n",
      " 6205447.24332168 5089099.51209292 2815612.04689107 5263378.49558254\n",
      " 2360780.18560194 6952341.8209451  7059622.12595975 4631749.67205213\n",
      " 6141868.11033825 5718014.75625427 6828021.53071391 3962163.67754849\n",
      " 4301842.68375354 3110156.50535253 3982922.85742833 4217313.76690592\n",
      " 3227655.96772367 3632210.73753295 6714913.31235064 5295492.78038461\n",
      " 5487199.32133315 4262245.97517923 6407903.46814968 6944557.5977338\n",
      " 6702149.07010627 7867155.79297035 5286290.57431726 3119418.41139874\n",
      " 6353247.02995603 5496507.03877367 4841972.51859392 4267278.01211746\n",
      " 5074241.72807433 8435868.03028246 3120500.97334966 2718400.54677434\n",
      " 4153750.63405287 3905663.32198859 7217623.99099682 4422954.13309237\n",
      " 6472966.44689661 4909606.25496951 5740965.70233047 6831824.05202987\n",
      " 4471895.71769921 2883034.64294907 4087497.47980761 6279279.03520982\n",
      " 3139189.21200697 2665585.6282341  2886111.05872191 5569112.45606086\n",
      " 5638621.1233464  3142750.1696542  3065024.4843693  3198571.03313018\n",
      " 4913769.29834422 3144937.96908829 4674172.40824813 2823791.07253431\n",
      " 4960040.97269326 4315736.08760564 8605676.77811601 3260955.29490845\n",
      " 4486303.49253557 4720721.61992807 3835547.41065706 5969403.05098291\n",
      " 4321617.10164238 4282087.96666852 3176500.66443824 4048805.47970537\n",
      " 2868088.59693837 4137294.26882206 4649962.65618848 6395079.46871957\n",
      " 3263308.64122557 3831269.31248186 6459214.1678077  6422693.92575878\n",
      " 9986923.424757   7543071.78174031 7995526.12139941 3444872.86644471\n",
      " 5611225.79831143 2971132.40889347 3624929.62783153 5398211.67540956]\n"
     ]
    }
   ],
   "source": [
    "linear_regression_predictions = linear_regression.predict(housing_test_data)\n",
    "print(linear_regression_predictions)"
   ],
   "metadata": {
    "collapsed": false,
    "ExecuteTime": {
     "end_time": "2023-12-08T17:21:05.151416Z",
     "start_time": "2023-12-08T17:21:03.777613600Z"
    }
   },
   "id": "e4b14010c6c327a3"
  },
  {
   "cell_type": "code",
   "execution_count": 434,
   "outputs": [],
   "source": [],
   "metadata": {
    "collapsed": false,
    "ExecuteTime": {
     "end_time": "2023-12-08T17:21:05.151416Z",
     "start_time": "2023-12-08T17:21:03.783796100Z"
    }
   },
   "id": "da6ae831163331ca"
  }
 ],
 "metadata": {
  "kernelspec": {
   "display_name": "Python 3",
   "language": "python",
   "name": "python3"
  },
  "language_info": {
   "codemirror_mode": {
    "name": "ipython",
    "version": 2
   },
   "file_extension": ".py",
   "mimetype": "text/x-python",
   "name": "python",
   "nbconvert_exporter": "python",
   "pygments_lexer": "ipython2",
   "version": "2.7.6"
  }
 },
 "nbformat": 4,
 "nbformat_minor": 5
}
